{
 "cells": [
  {
   "cell_type": "code",
   "execution_count": null,
   "metadata": {},
   "outputs": [],
   "source": [
    "import pandas as pd"
   ]
  },
  {
   "cell_type": "code",
   "execution_count": null,
   "metadata": {},
   "outputs": [],
   "source": [
    "#get list of fields to keep \n",
    "with open(r'C:\\PyFiles2\\Data\\FDIC Quarters\\quarterFields.txt','r') as file:\n",
    "    #Create Empty List - Store Fields\n",
    "    fields = []\n",
    "    #Iterate over lines in fields file\n",
    "    for field in file: \n",
    "        #remove new line character at end of line\n",
    "        field = field.strip()\n",
    "        #append the line to a list\n",
    "        fields.append(field)\n",
    "print(fields)"
   ]
  },
  {
   "cell_type": "code",
   "execution_count": null,
   "metadata": {},
   "outputs": [],
   "source": [
    "#read in .csv quarter files\n",
    "'''\n",
    "y00q1 = pd.read_csv(r'C:\\PyFiles2\\Data\\FDIC Quarters\\20000331.csv',usecols=fields)\n",
    "y00q2 = pd.read_csv(r'C:\\PyFiles2\\Data\\FDIC Quarters\\20000630.csv',usecols=fields)\n",
    "y00q3 = pd.read_csv(r'C:\\PyFiles2\\Data\\FDIC Quarters\\20000930.csv',usecols=fields)\n",
    "y00q4 = pd.read_csv(r'C:\\PyFiles2\\Data\\FDIC Quarters\\20001231.csv',usecols=fields)\n",
    "y01q1 = pd.read_csv(r'C:\\PyFiles2\\Data\\FDIC Quarters\\20010331.csv',usecols=fields)\n",
    "y01q2 = pd.read_csv(r'C:\\PyFiles2\\Data\\FDIC Quarters\\20010630.csv',usecols=fields)\n",
    "y01q3 = pd.read_csv(r'C:\\PyFiles2\\Data\\FDIC Quarters\\20010930.csv',usecols=fields)\n",
    "y01q4 = pd.read_csv(r'C:\\PyFiles2\\Data\\FDIC Quarters\\20011231.csv',usecols=fields)\n",
    "y02q1 = pd.read_csv(r'C:\\PyFiles2\\Data\\FDIC Quarters\\20020331.csv',usecols=fields)\n",
    "y02q2 = pd.read_csv(r'C:\\PyFiles2\\Data\\FDIC Quarters\\20020630.csv',usecols=fields)\n",
    "y02q3 = pd.read_csv(r'C:\\PyFiles2\\Data\\FDIC Quarters\\20020930.csv',usecols=fields)\n",
    "y02q4 = pd.read_csv(r'C:\\PyFiles2\\Data\\FDIC Quarters\\20021231.csv',usecols=fields)\n",
    "y03q1 = pd.read_csv(r'C:\\PyFiles2\\Data\\FDIC Quarters\\20030331.csv',usecols=fields)\n",
    "y03q2 = pd.read_csv(r'C:\\PyFiles2\\Data\\FDIC Quarters\\20030630.csv',usecols=fields)\n",
    "y03q3 = pd.read_csv(r'C:\\PyFiles2\\Data\\FDIC Quarters\\20030930.csv',usecols=fields)\n",
    "y03q4 = pd.read_csv(r'C:\\PyFiles2\\Data\\FDIC Quarters\\20031231.csv',usecols=fields)\n",
    "y04q1 = pd.read_csv(r'C:\\PyFiles2\\Data\\FDIC Quarters\\20040331.csv',usecols=fields)\n",
    "y04q2 = pd.read_csv(r'C:\\PyFiles2\\Data\\FDIC Quarters\\20040630.csv',usecols=fields)\n",
    "y04q3 = pd.read_csv(r'C:\\PyFiles2\\Data\\FDIC Quarters\\20040930.csv',usecols=fields)\n",
    "y04q4 = pd.read_csv(r'C:\\PyFiles2\\Data\\FDIC Quarters\\20041231.csv',usecols=fields)\n",
    "y05q1 = pd.read_csv(r'C:\\PyFiles2\\Data\\FDIC Quarters\\20050331.csv',usecols=fields)\n",
    "y05q2 = pd.read_csv(r'C:\\PyFiles2\\Data\\FDIC Quarters\\20050630.csv',usecols=fields)\n",
    "y05q3 = pd.read_csv(r'C:\\PyFiles2\\Data\\FDIC Quarters\\20050930.csv',usecols=fields)\n",
    "y05q4 = pd.read_csv(r'C:\\PyFiles2\\Data\\FDIC Quarters\\20051231.csv',usecols=fields)\n",
    "y06q1 = pd.read_csv(r'C:\\PyFiles2\\Data\\FDIC Quarters\\20060331.csv',usecols=fields)\n",
    "y06q2 = pd.read_csv(r'C:\\PyFiles2\\Data\\FDIC Quarters\\20060630.csv',usecols=fields)\n",
    "y06q3 = pd.read_csv(r'C:\\PyFiles2\\Data\\FDIC Quarters\\20060930.csv',usecols=fields)\n",
    "y06q4 = pd.read_csv(r'C:\\PyFiles2\\Data\\FDIC Quarters\\20061231.csv',usecols=fields)\n",
    "'''\n",
    "y07q1 = pd.read_csv(r'C:\\PyFiles2\\Data\\FDIC Quarters\\20070331.csv',usecols=fields)\n",
    "y07q2 = pd.read_csv(r'C:\\PyFiles2\\Data\\FDIC Quarters\\20070630.csv',usecols=fields)\n",
    "y07q3 = pd.read_csv(r'C:\\PyFiles2\\Data\\FDIC Quarters\\20070930.csv',usecols=fields)\n",
    "y07q4 = pd.read_csv(r'C:\\PyFiles2\\Data\\FDIC Quarters\\20071231.csv',usecols=fields)\n",
    "y08q1 = pd.read_csv(r'C:\\PyFiles2\\Data\\FDIC Quarters\\20080331.csv',usecols=fields)\n",
    "y08q2 = pd.read_csv(r'C:\\PyFiles2\\Data\\FDIC Quarters\\20080630.csv',usecols=fields)\n",
    "y08q3 = pd.read_csv(r'C:\\PyFiles2\\Data\\FDIC Quarters\\20080930.csv',usecols=fields)\n",
    "y08q4 = pd.read_csv(r'C:\\PyFiles2\\Data\\FDIC Quarters\\20081231.csv',usecols=fields)\n",
    "y09q1 = pd.read_csv(r'C:\\PyFiles2\\Data\\FDIC Quarters\\20090331.csv',usecols=fields)\n",
    "y09q2 = pd.read_csv(r'C:\\PyFiles2\\Data\\FDIC Quarters\\20090630.csv',usecols=fields)\n",
    "y09q3 = pd.read_csv(r'C:\\PyFiles2\\Data\\FDIC Quarters\\20090930.csv',usecols=fields)\n",
    "y09q4 = pd.read_csv(r'C:\\PyFiles2\\Data\\FDIC Quarters\\20091231.csv',usecols=fields)\n",
    "y10q1 = pd.read_csv(r'C:\\PyFiles2\\Data\\FDIC Quarters\\20100331.csv',usecols=fields)\n",
    "y10q2 = pd.read_csv(r'C:\\PyFiles2\\Data\\FDIC Quarters\\20100630.csv',usecols=fields)\n",
    "y10q3 = pd.read_csv(r'C:\\PyFiles2\\Data\\FDIC Quarters\\20100930.csv',usecols=fields)\n",
    "y10q4 = pd.read_csv(r'C:\\PyFiles2\\Data\\FDIC Quarters\\20101231.csv',usecols=fields)\n",
    "y11q1 = pd.read_csv(r'C:\\PyFiles2\\Data\\FDIC Quarters\\20110331.csv',usecols=fields)\n",
    "y11q2 = pd.read_csv(r'C:\\PyFiles2\\Data\\FDIC Quarters\\20110630.csv',usecols=fields)\n",
    "y11q3 = pd.read_csv(r'C:\\PyFiles2\\Data\\FDIC Quarters\\20110930.csv',usecols=fields)\n",
    "y11q4 = pd.read_csv(r'C:\\PyFiles2\\Data\\FDIC Quarters\\20111231.csv',usecols=fields)\n",
    "y12q1 = pd.read_csv(r'C:\\PyFiles2\\Data\\FDIC Quarters\\20120331.csv',usecols=fields)\n",
    "y12q2 = pd.read_csv(r'C:\\PyFiles2\\Data\\FDIC Quarters\\20120630.csv',usecols=fields)\n",
    "y12q3 = pd.read_csv(r'C:\\PyFiles2\\Data\\FDIC Quarters\\20120930.csv',usecols=fields)\n",
    "y12q4 = pd.read_csv(r'C:\\PyFiles2\\Data\\FDIC Quarters\\20121231.csv',usecols=fields)\n",
    "y13q1 = pd.read_csv(r'C:\\PyFiles2\\Data\\FDIC Quarters\\20130331.csv',usecols=fields)\n",
    "y13q2 = pd.read_csv(r'C:\\PyFiles2\\Data\\FDIC Quarters\\20130630.csv',usecols=fields)\n",
    "y13q3 = pd.read_csv(r'C:\\PyFiles2\\Data\\FDIC Quarters\\20130930.csv',usecols=fields)\n",
    "y13q4 = pd.read_csv(r'C:\\PyFiles2\\Data\\FDIC Quarters\\20131231.csv',usecols=fields)\n",
    "y14q1 = pd.read_csv(r'C:\\PyFiles2\\Data\\FDIC Quarters\\20140331.csv',usecols=fields)\n",
    "y14q2 = pd.read_csv(r'C:\\PyFiles2\\Data\\FDIC Quarters\\20140630.csv',usecols=fields)\n",
    "y14q3 = pd.read_csv(r'C:\\PyFiles2\\Data\\FDIC Quarters\\20140930.csv',usecols=fields)\n",
    "y14q4 = pd.read_csv(r'C:\\PyFiles2\\Data\\FDIC Quarters\\20141231.csv',usecols=fields)\n",
    "y15q1 = pd.read_csv(r'C:\\PyFiles2\\Data\\FDIC Quarters\\20150331.csv',usecols=fields)\n",
    "y15q2 = pd.read_csv(r'C:\\PyFiles2\\Data\\FDIC Quarters\\20150630.csv',usecols=fields)\n",
    "y15q3 = pd.read_csv(r'C:\\PyFiles2\\Data\\FDIC Quarters\\20150930.csv',usecols=fields)\n",
    "y15q4 = pd.read_csv(r'C:\\PyFiles2\\Data\\FDIC Quarters\\20151231.csv',usecols=fields)\n",
    "y16q1 = pd.read_csv(r'C:\\PyFiles2\\Data\\FDIC Quarters\\20160331.csv',usecols=fields)\n",
    "y16q2 = pd.read_csv(r'C:\\PyFiles2\\Data\\FDIC Quarters\\20160630.csv',usecols=fields)\n",
    "y16q3 = pd.read_csv(r'C:\\PyFiles2\\Data\\FDIC Quarters\\20160930.csv',usecols=fields)\n",
    "y16q4 = pd.read_csv(r'C:\\PyFiles2\\Data\\FDIC Quarters\\20161231.csv',usecols=fields)\n",
    "y17q1 = pd.read_csv(r'C:\\PyFiles2\\Data\\FDIC Quarters\\20170331.csv',usecols=fields)\n",
    "y17q2 = pd.read_csv(r'C:\\PyFiles2\\Data\\FDIC Quarters\\20170630.csv',usecols=fields)\n",
    "y17q3 = pd.read_csv(r'C:\\PyFiles2\\Data\\FDIC Quarters\\20170930.csv',usecols=fields)\n",
    "y17q4 = pd.read_csv(r'C:\\PyFiles2\\Data\\FDIC Quarters\\20171231.csv',usecols=fields)\n",
    "y18q1 = pd.read_csv(r'C:\\PyFiles2\\Data\\FDIC Quarters\\20180331.csv',usecols=fields)\n",
    "y18q2 = pd.read_csv(r'C:\\PyFiles2\\Data\\FDIC Quarters\\20180630.csv',usecols=fields)\n",
    "y18q3 = pd.read_csv(r'C:\\PyFiles2\\Data\\FDIC Quarters\\20180930.csv',usecols=fields)\n",
    "y18q4 = pd.read_csv(r'C:\\PyFiles2\\Data\\FDIC Quarters\\20181231.csv',usecols=fields)\n",
    "y19q1 = pd.read_csv(r'C:\\PyFiles2\\Data\\FDIC Quarters\\20190331.csv',usecols=fields)\n",
    "y19q2 = pd.read_csv(r'C:\\PyFiles2\\Data\\FDIC Quarters\\20190630.csv',usecols=fields)\n",
    "y19q3 = pd.read_csv(r'C:\\PyFiles2\\Data\\FDIC Quarters\\20190930.csv',usecols=fields)\n",
    "y19q4 = pd.read_csv(r'C:\\PyFiles2\\Data\\FDIC Quarters\\20191231.csv',usecols=fields)\n",
    "y20q1 = pd.read_csv(r'C:\\PyFiles2\\Data\\FDIC Quarters\\20200331.csv',usecols=fields)\n",
    "y20q2 = pd.read_csv(r'C:\\PyFiles2\\Data\\FDIC Quarters\\20200630.csv',usecols=fields)\n",
    "y20q3 = pd.read_csv(r'C:\\PyFiles2\\Data\\FDIC Quarters\\20200930.csv',usecols=fields)\n",
    "y20q4 = pd.read_csv(r'C:\\PyFiles2\\Data\\FDIC Quarters\\20201231.csv',usecols=fields)\n",
    "y21q1 = pd.read_csv(r'C:\\PyFiles2\\Data\\FDIC Quarters\\20210331.csv',usecols=fields)\n",
    "y21q2 = pd.read_csv(r'C:\\PyFiles2\\Data\\FDIC Quarters\\20210630.csv',usecols=fields)\n",
    "y21q3 = pd.read_csv(r'C:\\PyFiles2\\Data\\FDIC Quarters\\20210930.csv',usecols=fields)\n",
    "y21q4 = pd.read_csv(r'C:\\PyFiles2\\Data\\FDIC Quarters\\20211231.csv',usecols=fields)\n",
    "y22q1 = pd.read_csv(r'C:\\PyFiles2\\Data\\FDIC Quarters\\20220331.csv',usecols=fields)\n",
    "y22q2 = pd.read_csv(r'C:\\PyFiles2\\Data\\FDIC Quarters\\20220630.csv',usecols=fields)\n",
    "y22q3 = pd.read_csv(r'C:\\PyFiles2\\Data\\FDIC Quarters\\20220930.csv',usecols=fields)\n",
    "y22q4 = pd.read_csv(r'C:\\PyFiles2\\Data\\FDIC Quarters\\20221231.csv',usecols=fields)\n",
    "y23q1 = pd.read_csv(r'C:\\PyFiles2\\Data\\FDIC Quarters\\20230331.csv',usecols=fields)\n",
    "#y23q2 = pd.read_csv(r'C:\\PyFiles2\\Data\\FDIC Quarters\\20230630.csv',usecols=fields)\n",
    "#y23q3 = pd.read_csv(r'C:\\PyFiles2\\Data\\FDIC Quarters\\20230930.csv',usecols=fields)\n",
    "#y23q4 = pd.read_csv(r'C:\\PyFiles2\\Data\\FDIC Quarters\\20231231.csv',usecols=fields)\n"
   ]
  },
  {
   "cell_type": "code",
   "execution_count": null,
   "metadata": {},
   "outputs": [],
   "source": [
    "#create list of dataframes \n",
    "#frames = [y22q1,y22q2,y22q3,y22q4,y23q1]\n",
    "#frames = [y00q1,y00q2,y00q3,y00q4,y01q1,y01q2,y01q3,y01q4,y02q1,y02q2,y02q3,y02q4,y03q1,y03q2,y03q3,y03q4,y04q1,y04q2,y04q3,y04q4,y05q1,y05q2,y05q3,y05q4,y06q1,y06q2,y06q3,y06q4,y07q1,y07q2,y07q3,y07q4,y08q1,y08q2,y08q3,y08q4,y09q1,y09q2,y09q3,y09q4,y10q1,y10q2,y10q3,y10q4,y11q1,y11q2,y11q3,y11q4,y12q1,y12q2,y12q3,y12q4,y13q1,y13q2,y13q3,y13q4,y14q1,y14q2,y14q3,y14q4,y15q1,y15q2,y15q3,y15q4,y16q1,y16q2,y16q3,y16q4,y17q1,y17q2,y17q3,y17q4,y18q1,y18q2,y18q3,y18q4,y19q1,y19q2,y19q3,y19q4,y20q1,y20q2,y20q3,y20q4,y21q1,y21q2,y21q3,y21q4,y22q1,y22q2,y22q3,y22q4,y23q1]\n",
    "frames = [y07q1,y07q2,y07q3,y07q4,y08q1,y08q2,y08q3,y08q4,y09q1,y09q2,y09q3,y09q4,y10q1,y10q2,y10q3,y10q4,y11q1,y11q2,y11q3,y11q4,y12q1,y12q2,y12q3,y12q4,y13q1,y13q2,y13q3,y13q4,y14q1,y14q2,y14q3,y14q4,y15q1,y15q2,y15q3,y15q4,y16q1,y16q2,y16q3,y16q4,y17q1,y17q2,y17q3,y17q4,y18q1,y18q2,y18q3,y18q4,y19q1,y19q2,y19q3,y19q4,y20q1,y20q2,y20q3,y20q4,y21q1,y21q2,y21q3,y21q4,y22q1,y22q2,y22q3,y22q4,y23q1]"
   ]
  },
  {
   "cell_type": "code",
   "execution_count": null,
   "metadata": {},
   "outputs": [],
   "source": [
    "#append frames to each other\n",
    "quarters = pd.concat(frames)\n",
    "quarters.shape"
   ]
  },
  {
   "cell_type": "code",
   "execution_count": null,
   "metadata": {},
   "outputs": [],
   "source": [
    "#get list of institution file fields to keep \n",
    "with open(r'C:\\PyFiles2\\Data\\Institutions\\QrtrInstFields.txt','r') as file:\n",
    "    #Create Empty List - Store Fields\n",
    "    instfields = []\n",
    "    #Iterate over lines in fields file\n",
    "    for field in file: \n",
    "        #remove new line character at end of line\n",
    "        field = field.strip()\n",
    "        #append the line to a list\n",
    "        instfields.append(field)\n",
    "print(instfields)"
   ]
  },
  {
   "cell_type": "code",
   "execution_count": null,
   "metadata": {},
   "outputs": [],
   "source": [
    "#read in institution file\n",
    "inst = pd.read_csv(r'C:\\PyFiles2\\Data\\Institutions\\institutions.csv',usecols=instfields,parse_dates=['ESTYMD', 'INSDATE', 'EFFDATE'])\n",
    "inst.shape"
   ]
  },
  {
   "cell_type": "code",
   "execution_count": null,
   "metadata": {},
   "outputs": [],
   "source": [
    "inst.head()"
   ]
  },
  {
   "cell_type": "code",
   "execution_count": null,
   "metadata": {},
   "outputs": [],
   "source": [
    "#Join institution file to quarters dataframe\n",
    "fdicquarters = pd.merge(quarters,inst,on=\"CERT\")\n",
    "fdicquarters.shape"
   ]
  },
  {
   "cell_type": "code",
   "execution_count": null,
   "metadata": {},
   "outputs": [],
   "source": [
    "fdicquarters.head()"
   ]
  },
  {
   "cell_type": "code",
   "execution_count": null,
   "metadata": {},
   "outputs": [],
   "source": [
    "fdicquarters.REPDTE"
   ]
  },
  {
   "cell_type": "code",
   "execution_count": null,
   "metadata": {},
   "outputs": [],
   "source": [
    "fdicquarters.INSDATE"
   ]
  },
  {
   "cell_type": "code",
   "execution_count": null,
   "metadata": {},
   "outputs": [],
   "source": [
    "fdicquarters.EFFDATE"
   ]
  },
  {
   "cell_type": "code",
   "execution_count": null,
   "metadata": {},
   "outputs": [],
   "source": [
    "fdicquarters.ESTYMD"
   ]
  },
  {
   "cell_type": "code",
   "execution_count": null,
   "metadata": {},
   "outputs": [],
   "source": [
    "#convert date from string to date/time\n",
    "#fdicstrdate = fdicquarters[['REPDTE','INSDATE']] = fdicquarters[['REPDTE','INSDATE']].apply(pd.to_datetime,infer_datetime_format=True)\n",
    "fdicquarters['REPDTE'] = pd.to_datetime(fdicquarters['REPDTE'],format='%Y%m%d')"
   ]
  },
  {
   "cell_type": "code",
   "execution_count": null,
   "metadata": {},
   "outputs": [],
   "source": [
    "#rename fields"
   ]
  },
  {
   "cell_type": "code",
   "execution_count": null,
   "metadata": {},
   "outputs": [],
   "source": [
    "#export combined dataframe to file\n",
    "fdicquarters.to_csv(r'C:\\PyFiles2\\Data\\FDIC Output\\FDIC-Quarterly_Bank_Listing.csv',index=False)"
   ]
  }
 ],
 "metadata": {
  "kernelspec": {
   "display_name": "Python 3",
   "language": "python",
   "name": "python3"
  },
  "language_info": {
   "codemirror_mode": {
    "name": "ipython",
    "version": 3
   },
   "file_extension": ".py",
   "mimetype": "text/x-python",
   "name": "python",
   "nbconvert_exporter": "python",
   "pygments_lexer": "ipython3",
   "version": "3.10.9 (tags/v3.10.9:1dd9be6, Dec  6 2022, 20:01:21) [MSC v.1934 64 bit (AMD64)]"
  },
  "orig_nbformat": 4,
  "vscode": {
   "interpreter": {
    "hash": "98afb33d2bdf54e870e503cc7fe9e5025ed94aafb549bc0bc2b30638a52db936"
   }
  }
 },
 "nbformat": 4,
 "nbformat_minor": 2
}
