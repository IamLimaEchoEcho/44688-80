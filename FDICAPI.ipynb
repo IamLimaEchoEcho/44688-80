{
 "cells": [
  {
   "cell_type": "code",
   "execution_count": null,
   "metadata": {},
   "outputs": [],
   "source": [
    "import pandas as pd\n",
    "import requests"
   ]
  },
  {
   "cell_type": "code",
   "execution_count": null,
   "metadata": {},
   "outputs": [],
   "source": [
    "fdicfinancialdata = []\n",
    "#years = ['2008','2009','2010','2011','2012','2013','2014','2015','2016','2017','2018','2019','2020','2021','2022']\n",
    "years = ['2000', '2001', '2002']\n",
    "quarters = ['0331', '0630', '0930', '1231']\n",
    "offsets = ['0','500','1000','1500','2000','2500','3000','3500','4000','4500','5000','5500','6000','6500','7000','7500','8000','8500','9000']\n",
    "#offsets = ['0']\n",
    "headers = {\n",
    "    'accept': 'application/json',\n",
    "    'Content-Type': 'application/json'\n",
    "}"
   ]
  },
  {
   "cell_type": "code",
   "execution_count": null,
   "metadata": {},
   "outputs": [],
   "source": [
    "#one single quarter\n",
    "#change the data in the url to the desired Qrt before running\n",
    "\"\"\" for offset in offsets:\n",
    "    financialurl='https://banks.data.fdic.gov/api/financials?filters=REPDTE%3A20221231&sort_by=REPDTE&sort_order=DESC&limit=500&offset=' + offset + '&format=json&download=false&filename=data_file'\n",
    "\n",
    "    request = requests.request(\"GET\", financialurl, headers=headers,data={})\n",
    "    fdicjson = request.json()\n",
    "    for i in fdicjson[\"data\"]:\n",
    "        fdicfinancialdata.append(i[\"data\"])\n",
    "    print(offset) \"\"\""
   ]
  },
  {
   "cell_type": "code",
   "execution_count": null,
   "metadata": {},
   "outputs": [],
   "source": [
    "#Multiple years, multiple quarters\n",
    "#change the data in the url to the desired Qrt before running\n",
    "\n",
    "for year in years:\n",
    "    for quarter in quarters:\n",
    "        fdicfinancialdata = []\n",
    "        for offset in offsets:\n",
    "            financialurl='https://banks.data.fdic.gov/api/financials?filters=REPDTE%3A' + year + quarter + '&sort_by=CERT&sort_order=ASC&limit=500&offset=' + offset + '&agg_term_fields=REPDTE&format=json'\n",
    "\n",
    "            request = requests.request(\"GET\", financialurl, headers=headers,data={})\n",
    "            fdicjson = request.json()\n",
    "            for i in fdicjson[\"data\"]:\n",
    "                fdicfinancialdata.append(i[\"data\"])\n",
    "        fdicfinancial = pd.DataFrame(fdicfinancialdata)\n",
    "        fdicfinancial.to_csv(\"C:/pyfiles2/Data/FDIC Quarters/\" + year + quarter + \".csv\", index=False)"
   ]
  },
  {
   "cell_type": "code",
   "execution_count": null,
   "metadata": {},
   "outputs": [],
   "source": [
    "\"\"\" fdicfinancial = pd.DataFrame(fdicfinancialdata) \"\"\""
   ]
  },
  {
   "cell_type": "code",
   "execution_count": null,
   "metadata": {},
   "outputs": [],
   "source": [
    "fdicfinancial.shape\n"
   ]
  }
 ],
 "metadata": {
  "kernelspec": {
   "display_name": "Python 3",
   "language": "python",
   "name": "python3"
  },
  "language_info": {
   "codemirror_mode": {
    "name": "ipython",
    "version": 3
   },
   "file_extension": ".py",
   "mimetype": "text/x-python",
   "name": "python",
   "nbconvert_exporter": "python",
   "pygments_lexer": "ipython3",
   "version": "3.10.9 (tags/v3.10.9:1dd9be6, Dec  6 2022, 20:01:21) [MSC v.1934 64 bit (AMD64)]"
  },
  "orig_nbformat": 4,
  "vscode": {
   "interpreter": {
    "hash": "98afb33d2bdf54e870e503cc7fe9e5025ed94aafb549bc0bc2b30638a52db936"
   }
  }
 },
 "nbformat": 4,
 "nbformat_minor": 2
}
